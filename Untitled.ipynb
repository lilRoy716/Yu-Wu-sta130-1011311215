{
 "cells": [
  {
   "cell_type": "markdown",
   "id": "e964e5eb",
   "metadata": {},
   "source": [
    "1. Pick one of the datasets from the ChatBot session(s) of the TUT demo (or from your own ChatBot session if you wish) and use the code produced through the ChatBot interactions to import the data and confirm that the dataset has missing values"
   ]
  },
  {
   "cell_type": "code",
   "execution_count": 3,
   "id": "78f55dbd",
   "metadata": {},
   "outputs": [
    {
     "data": {
      "text/plain": [
       "row_n           0\n",
       "id              1\n",
       "name            0\n",
       "gender          0\n",
       "species         0\n",
       "birthday        0\n",
       "personality     0\n",
       "song           11\n",
       "phrase          0\n",
       "full_id         0\n",
       "url             0\n",
       "dtype: int64"
      ]
     },
     "execution_count": 3,
     "metadata": {},
     "output_type": "execute_result"
    }
   ],
   "source": [
    "import pandas as pd\n",
    "url = \"https://raw.githubusercontent.com/rfordatascience/tidytuesday/master/data/2020/2020-05-05/villagers.csv\"\n",
    "df = pd.read_csv(url)\n",
    "df.isna().sum()"
   ]
  },
  {
   "cell_type": "markdown",
   "id": "4e239ab9",
   "metadata": {},
   "source": [
    "2. Start a new ChatBot session with an initial prompt introducing the dataset you're using and request help to determine how many columns and rows of data a pandas DataFrame has, and then\n",
    "use code provided in your ChatBot session to print out the number of rows and columns of the dataset; and,\n",
    "write your own general definitions of the meaning of \"observations\" and \"variables\" based on asking the ChatBot to explain these terms in the context of your dataset"
   ]
  },
  {
   "cell_type": "code",
   "execution_count": 2,
   "id": "cf823fe8",
   "metadata": {},
   "outputs": [
    {
     "data": {
      "text/plain": [
       "(391, 11)"
      ]
     },
     "execution_count": 2,
     "metadata": {},
     "output_type": "execute_result"
    }
   ],
   "source": [
    "df.shape"
   ]
  },
  {
   "cell_type": "markdown",
   "id": "59b62dbd",
   "metadata": {},
   "source": [
    "Normally, observation would represent the rows, which represent an instance of the object that we are studying.\n",
    "Variables refer to features or characteristics of the object, which usually represent the columns."
   ]
  },
  {
   "cell_type": "markdown",
   "id": "c09256ab",
   "metadata": {},
   "source": [
    "3. Ask the ChatBot how you can provide simple summaries of the columns in the dataset and use the suggested code to provide these summaries for your dataset"
   ]
  },
  {
   "cell_type": "code",
   "execution_count": 4,
   "id": "fc00ddd4",
   "metadata": {},
   "outputs": [
    {
     "name": "stdout",
     "output_type": "stream",
     "text": [
      "            row_n\n",
      "count  391.000000\n",
      "mean   239.902813\n",
      "std    140.702672\n",
      "min      2.000000\n",
      "25%    117.500000\n",
      "50%    240.000000\n",
      "75%    363.500000\n",
      "max    483.000000\n"
     ]
    }
   ],
   "source": [
    "print(df.describe())"
   ]
  },
  {
   "cell_type": "markdown",
   "id": "e33c7561",
   "metadata": {},
   "source": [
    "4. If the dataset you're using has (a) non-numeric variables and (b) missing values in numeric variables, explain (perhaps using help from a ChatBot if needed) the discrepancies between size of the dataset given by df.shape and what is reported by df.describe() with respect to (a) the number of columns it analyzes and (b) the values it reports in the \"count\" column"
   ]
  },
  {
   "cell_type": "markdown",
   "id": "b4828811",
   "metadata": {},
   "source": [
    "df.shape returns the total number of rows and columns in the DataFrame.It includes all columns,both numeric and non-numeric,while it dosen't care about missing values.\n",
    "df.describe only provides statistical summaries for numeric columns,like count,mean,and std.The count in describe() only includes non-null values.\n"
   ]
  },
  {
   "cell_type": "markdown",
   "id": "37728204",
   "metadata": {},
   "source": [
    "5. Use your ChatBot session to help understand the difference between the following and then provide your own paraphrasing summarization of that difference\n",
    "an \"attribute\", such as df.shape which does not end with ()\n",
    "and a \"method\", such as df.describe() which does end with ()\n"
   ]
  },
  {
   "cell_type": "markdown",
   "id": "9bddacf4",
   "metadata": {},
   "source": [
    "The main difference of 'attribute' and 'method' is on functionality and there's distinction of how you interact with them.\n",
    "An attribute is used to store data or information about an object.There is no parentheses, and it can accesses existing information directly.\n",
    "A method is a function that performs an operation or computation,which requires parentheses.It also returns a result based on calculations."
   ]
  },
  {
   "cell_type": "markdown",
   "id": "f9ae30df",
   "metadata": {},
   "source": [
    "6. The df.describe() method provides the 'count', 'mean', 'std', 'min', '25%', '50%', '75%', and 'max' summary statistics for each variable it analyzes. Give the definitions (perhaps using help from the ChatBot if needed) of each of these summary statistics"
   ]
  },
  {
   "cell_type": "markdown",
   "id": "625e1587",
   "metadata": {},
   "source": [
    "count:The number of non-null (non-missing) entries in the column\n",
    "mean:The average of all non-null values in the column.\n",
    "std: A measure of the amount of variation or dispersion in the data. It indicates how spread out the values are around the mean.\n",
    "min:The minimum value in the column.\n",
    "25%:The 25th percentile of the data. It represents the value below which 25% of the data falls.\n",
    "50%:The median value of the data, or the 50th percentile. Half the data points are less than this value, and half are greater.\n",
    "75%:The 75th percentile of the data. It represents the value below which 75% of the data falls.\n",
    "max:The maximum value in the column."
   ]
  },
  {
   "cell_type": "markdown",
   "id": "b752e454",
   "metadata": {},
   "source": [
    "7. Missing data can be considered \"across rows\" or \"down columns\". Consider how df.dropna() or del df['col'] should be applied to most efficiently use the available non-missing data in your dataset and briefly answer the following questions in your own words"
   ]
  },
  {
   "cell_type": "markdown",
   "id": "ac784ae2",
   "metadata": {},
   "source": [
    "1.Use df.dropna(): Preferred when you want to remove rows with missing values but retain valuable columns.\n",
    "2.Use del df['col']: Preferred when a column has too many missing values, making it irrelevant.\n",
    "3.del df['col'] before df.dropna(): Important to avoid unnecessary loss of rows by first removing unimportant columns with excessive missing data.\n",
    "4.Data removing approach: Delete the cabin column and drop rows with missing age and fare to retain complete and useful data.\n",
    "\n",
    "\n",
    "\n",
    "\n",
    "\n"
   ]
  },
  {
   "cell_type": "markdown",
   "id": "11374aab",
   "metadata": {},
   "source": [
    "8. Give brief explanations in your own words for any requested answers to the questions below"
   ]
  },
  {
   "cell_type": "markdown",
   "id": "5c763aea",
   "metadata": {},
   "source": [
    "df.groupby(\"col1\")[\"col2\"].describe(): Groups data by col1 and shows stats for col2 within each group.\n",
    "\n",
    "Difference in Counts:\n",
    "df.describe(): Shows how many non-missing values each column has in the whole dataset.\n",
    "df.groupby(\"col1\")[\"col2\"].describe(): Shows how many non-missing values col2 has within each col1 group.\n",
    "\n",
    "Intentionally introduce the following errors into your code and report your opinion as to whether it's easier to (a) work in a ChatBot session to fix the errors, or (b) use google to search for and fix errors: first share the errors you get in the ChatBot session and see if you can work with ChatBot to troubleshoot and fix the coding errors, and then see if you think a google search for the error provides the necessary toubleshooting help more quickly than ChatGPT\n",
    "\n",
    "A.ChatBot: ChatGPT explains that the pd alias is undefined because pandas hasn't been imported.\n",
    "Google:name 'pd' is not defined\" on Google quickly suggests that the import statement for pandas is missing.\n",
    "B.ChatBot: ChatGPT identifies that the file name is wrong and prompt you to double-check it or confirm the correct path.\n",
    "Google:[Errno 2] No such file or directory\" also points to a typo in the file path or the need to check the working directory.\n",
    "C.ChatBot: ChatGPT points out that the dataframe DF is undefined, indicating a typo or incorrect variable name.\n",
    "Google:name 'DF' is not defined\" shows that the variable name is incorrect or hasn't been assigned.\n",
    "D.ChatBot: ChatGPT detects the missing parenthesis and suggest correcting the syntax.\n",
    "Google: unexpected EOF while parsing\" leads to advice about checking for missing parentheses, but it might require some reading to identify the issue.\n",
    "E.ChatBot: ChatGPT highlights the typo (group_by vs groupby) and suggest using the correct method name.\n",
    "Google: 'DataFrame' object has no attribute 'group_by'\" provides resources explaining that the function name is incorrect.\n",
    "F.ChatBot: ChatGPT indicates that the column name is likely mistyped or doesn't exist in the dataframe, and recommend verifying the column names.\n",
    "Google: 'Sex' and 'age' similarly suggests that the column name is incorrect or not present in the dataframe.\n",
    "G.ChatBot: ChatGPT points out that column names must be passed as strings, and you forgot to put quotes around sex.\n",
    "Google: name 'sex' is not defined\"  gives suggestions that you forgot to put the column name in quotes.\n",
    "Summury:Chatgpt provides more interactive and useful help, helping users fix errors in real-time.It's efficient for catching small typos or syntax issues quickly.\n",
    "Google is effective for well-documented errors, but it requires filtering through results.It's great for exploration of unfamiliar or complex errors."
   ]
  },
  {
   "cell_type": "markdown",
   "id": "6e517ae9",
   "metadata": {},
   "source": [
    "9. Have you reviewed the course wiki-textbook and interacted with a ChatBot (or, if that wasn't sufficient, real people in the course piazza discussion board or TA office hours) to help you understand all the material in the tutorial and lecture that you didn't quite follow when you first saw it?"
   ]
  },
  {
   "cell_type": "markdown",
   "id": "d49194a6",
   "metadata": {},
   "source": [
    "yes"
   ]
  }
 ],
 "metadata": {
  "kernelspec": {
   "display_name": "Python 3 (ipykernel)",
   "language": "python",
   "name": "python3"
  },
  "language_info": {
   "codemirror_mode": {
    "name": "ipython",
    "version": 3
   },
   "file_extension": ".py",
   "mimetype": "text/x-python",
   "name": "python",
   "nbconvert_exporter": "python",
   "pygments_lexer": "ipython3",
   "version": "3.11.6"
  }
 },
 "nbformat": 4,
 "nbformat_minor": 5
}
